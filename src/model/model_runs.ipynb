{
 "cells": [
  {
   "cell_type": "code",
   "execution_count": null,
   "metadata": {},
   "outputs": [],
   "source": [
    "import mlflow\n",
    "import xgboost as xgb\n",
    "from common.mlflow import setup_mlflow_experiment\n",
    "from data.load_data import load_cali_house_data\n",
    "from sklearn.metrics import mean_squared_error\n",
    "from sklearn.model_selection import train_test_split\n",
    "from common.mlflow import setup_mlflow_experiment\n",
    "from data.load_data import load_cali_house_data"
   ]
  },
  {
   "cell_type": "markdown",
   "metadata": {},
   "source": [
    "XGB Normal"
   ]
  },
  {
   "cell_type": "code",
   "execution_count": null,
   "metadata": {},
   "outputs": [],
   "source": [
    "setup_mlflow_experiment()\n",
    "mlflow.autolog(exclusive=False)\n",
    "\n",
    "with mlflow.start_run():\n",
    "    X, y = load_cali_house_data()\n",
    "\n",
    "    X_train, X_test, y_train, y_test = train_test_split(\n",
    "        X, y, test_size=0.2, random_state=123\n",
    "    )\n",
    "    xg_reg = xgb.XGBRegressor(\n",
    "        objective=\"reg:linear\",\n",
    "        colsample_bytree=0.3,\n",
    "        learning_rate=0.1,\n",
    "        max_depth=5,\n",
    "        alpha=10,\n",
    "        n_estimators=10,\n",
    "    )\n",
    "\n",
    "    xg_reg.fit(X_train, y_train)\n",
    "\n",
    "    preds = xg_reg.predict(X_test)\n",
    "    rmse = np.sqrt(mean_squared_error(y_test, preds))\n",
    "\n",
    "    mlflow.log_metric(\"root_mean_squared_error\", rmse)\n"
   ]
  },
  {
   "cell_type": "markdown",
   "metadata": {},
   "source": [
    "XGB CV"
   ]
  },
  {
   "cell_type": "code",
   "execution_count": null,
   "metadata": {},
   "outputs": [],
   "source": [
    "setup_mlflow_experiment()\n",
    "mlflow.autolog(exclusive=False)\n",
    "\n",
    "with mlflow.start_run():\n",
    "    X, y = load_cali_house_data()\n",
    "    data_dmatrix = xgb.DMatrix(data=X, label=y)\n",
    "\n",
    "    params = {\n",
    "        \"objective\": \"reg:linear\",\n",
    "        \"colsample_bytree\": 0.3,\n",
    "        \"learning_rate\": 0.1,\n",
    "        \"max_depth\": 6,\n",
    "        \"alpha\": 10,\n",
    "    }\n",
    "\n",
    "    cv_results = xgb.cv(\n",
    "        dtrain=data_dmatrix,\n",
    "        params=params,\n",
    "        nfold=3,\n",
    "        num_boost_round=50,\n",
    "        early_stopping_rounds=10,\n",
    "        metrics=\"rmse\",\n",
    "        as_pandas=True,\n",
    "        seed=123,\n",
    "    )\n",
    "\n",
    "    test_rmse = cv_results[\"test-rmse-mean\"].tail(1)\n",
    "    xg_reg = xgb.train(params=params, dtrain=data_dmatrix, num_boost_round=10)\n",
    "\n",
    "    mlflow.log_metric(\"root_mean_squared_error\", test_rmse)"
   ]
  }
 ],
 "metadata": {
  "language_info": {
   "name": "python"
  }
 },
 "nbformat": 4,
 "nbformat_minor": 2
}
